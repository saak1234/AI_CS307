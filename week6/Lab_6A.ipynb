{
  "nbformat": 4,
  "nbformat_minor": 0,
  "metadata": {
    "colab": {
      "provenance": []
    },
    "kernelspec": {
      "name": "python3",
      "display_name": "Python 3"
    },
    "language_info": {
      "name": "python"
    }
  },
  "cells": [
    {
      "cell_type": "code",
      "execution_count": 1,
      "metadata": {
        "colab": {
          "base_uri": "https://localhost:8080/",
          "height": 430
        },
        "id": "8UOt8Mnt86z8",
        "outputId": "a8d836bf-afec-4780-a5b2-901393ce94f0"
      },
      "outputs": [
        {
          "output_type": "display_data",
          "data": {
            "text/plain": [
              "<Figure size 640x480 with 1 Axes>"
            ],
            "image/png": "[encoded data removed]"
          },
          "metadata": {}
        }
      ],
      "source": [
        "import numpy as np\n",
        "import matplotlib.pyplot as plt\n",
        "\n",
        "def generate_initial_state(initial_state):\n",
        "    unique = []\n",
        "    i = 0\n",
        "    while i < 8:\n",
        "        pos = np.random.randint(low=0, high=64)\n",
        "        if pos in unique:\n",
        "            continue\n",
        "\n",
        "        unique.append(pos)\n",
        "        i += 1\n",
        "\n",
        "    for u in unique:\n",
        "        initial_state[u // 8][u % 8] = 1\n",
        "\n",
        "def energy(x):\n",
        "    E1=0\n",
        "    for j in range(8):\n",
        "        sum_ = 0\n",
        "        for i in range(8):\n",
        "            sum_ += x[i][j]\n",
        "        sum_ -= 1\n",
        "        E1 += pow(sum_, 2)\n",
        "\n",
        "    E2=0\n",
        "    for i in range(8):\n",
        "        sum_ = 0\n",
        "        for j in range(8):\n",
        "            sum_ += x[i][j]\n",
        "        sum_ -= 1\n",
        "        E2 += pow(sum_, 2)\n",
        "\n",
        "    return E1 + E2\n",
        "\n",
        "def flip(curr_energy, x):\n",
        "    while True:\n",
        "        pos1 = np.random.randint(low=0, high=64)\n",
        "        pos2 = np.random.randint(low=0, high=64)\n",
        "\n",
        "        if x[pos1 // 8][pos1 % 8] != 1 and x[pos2 // 8][pos2 % 8] != 0:\n",
        "            continue\n",
        "\n",
        "        if x[pos1 // 8][pos1 % 8] == 1 and x[pos2 // 8][pos2 % 8] == 0:\n",
        "            x[pos1 // 8][pos1 % 8] = 0\n",
        "            x[pos2 // 8][pos2 % 8] = 1\n",
        "\n",
        "            new_energy = energy(x)\n",
        "\n",
        "            if curr_energy > new_energy:  # Check if new energy is lower\n",
        "                curr_energy = new_energy  # Update current energy\n",
        "            else:  # Revert the changes if energy doesn't decrease\n",
        "                x[pos1 // 8][pos1 % 8] = 1\n",
        "                x[pos2 // 8][pos2 % 8] = 0\n",
        "            break\n",
        "\n",
        "    return curr_energy\n",
        "\n",
        "initial_state = np.zeros((8, 8))\n",
        "generate_initial_state(initial_state)\n",
        "plt.imshow(initial_state, cmap='binary', interpolation='nearest')\n",
        "curr_energy = energy(initial_state)\n",
        "\n",
        "iterations = 1000\n",
        "x = initial_state\n",
        "for i in range(iterations):\n",
        "    curr_energy = flip(curr_energy, x)\n",
        "    plt.imshow(initial_state, cmap='binary', interpolation='nearest')"
      ]
    }
  ]
}
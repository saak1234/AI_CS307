{
  "nbformat": 4,
  "nbformat_minor": 0,
  "metadata": {
    "colab": {
      "provenance": []
    },
    "kernelspec": {
      "name": "python3",
      "display_name": "Python 3"
    },
    "language_info": {
      "name": "python"
    }
  },
  "cells": [
    {
      "cell_type": "code",
      "execution_count": 9,
      "metadata": {
        "colab": {
          "base_uri": "https://localhost:8080/"
        },
        "id": "a129yNgGnH02",
        "outputId": "99bf4296-4433-4a5b-f870-8bbb07c93461"
      },
      "outputs": [
        {
          "output_type": "stream",
          "name": "stdout",
          "text": [
            "Enter the number of variables (n): 12\n",
            "Enter the number of variables in each clause (k): 3\n",
            "Enter the number of clauses (m): 4\n",
            "Problem 1: ((~D or ~H or ~E) and (J or ~F or A) and (D or ~C or H) and (~H or ~A or J))\n",
            "Problem 2: ((~F or E or L) and (D or ~K or ~C) and (J or ~E or ~L) and (J or E or B))\n",
            "Problem 3: ((~F or E or ~K) and (G or L or ~C) and (~L or ~G or H) and (K or F or B))\n",
            "Problem 4: ((E or ~C or ~J) and (~K or A or F) and (A or ~I or ~E) and (B or ~I or K))\n",
            "Problem 5: ((K or I or C) and (F or ~J or ~L) and (~B or H or ~L) and (~G or ~D or H))\n",
            "Problem 6: ((J or H or E) and (L or K or ~H) and (~H or F or C) and (J or ~A or ~B))\n",
            "Problem 7: ((~J or K or B) and (~L or A or ~K) and (~A or I or H) and (~J or L or K))\n",
            "Problem 8: ((G or F or ~B) and (F or H or ~C) and (~K or C or I) and (~I or E or J))\n",
            "Problem 9: ((D or ~A or L) and (~K or ~I or ~J) and (A or D or E) and (C or J or ~K))\n",
            "Problem 10: ((~L or K or ~B) and (~I or ~C or ~B) and (D or K or ~J) and (D or ~H or ~B))\n"
          ]
        }
      ],
      "source": [
        "import random\n",
        "\n",
        "def create_sat_instance(num_vars, clause_length, num_clauses):\n",
        "    variables = [chr(i + 65) for i in range(num_vars)]\n",
        "    formula = \"((\"\n",
        "    current_clause = []\n",
        "\n",
        "    for i in range(clause_length * num_clauses):\n",
        "        selected_var = random.choice(variables)\n",
        "        variables.remove(selected_var)\n",
        "        current_clause.append(selected_var)\n",
        "\n",
        "        if i % clause_length == clause_length - 1:\n",
        "            while current_clause:\n",
        "                variables.append(current_clause.pop(0))\n",
        "\n",
        "        # Randomly decide whether to negate the variable\n",
        "        if random.random() < 0.5:\n",
        "            formula += \"~\"\n",
        "\n",
        "        formula += selected_var\n",
        "\n",
        "        if i % clause_length == clause_length - 1 and i != (clause_length * num_clauses - 1):\n",
        "            formula += \") and (\"\n",
        "        elif i != (clause_length * num_clauses - 1):\n",
        "            formula += \" or \"\n",
        "\n",
        "    formula += \"))\"\n",
        "    return formula\n",
        "\n",
        "# User input\n",
        "num_vars = int(input(\"Enter the number of variables (n): \"))\n",
        "clause_length = int(input(\"Enter the number of variables in each clause (k): \"))\n",
        "num_clauses = int(input(\"Enter the number of clauses (m): \"))\n",
        "\n",
        "# Generate and print the SAT instances\n",
        "for i in range(10):\n",
        "    print(f\"Problem {i + 1}: {create_sat_instance(num_vars, clause_length, num_clauses)}\")\n"
      ]
    }
  ]
}
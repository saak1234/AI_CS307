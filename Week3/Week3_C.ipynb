{
  "nbformat": 4,
  "nbformat_minor": 0,
  "metadata": {
    "colab": {
      "provenance": []
    },
    "kernelspec": {
      "name": "python3",
      "display_name": "Python 3"
    },
    "language_info": {
      "name": "python"
    }
  },
  "cells": [
    {
      "cell_type": "code",
      "execution_count": 1,
      "metadata": {
        "id": "4V1fVLD0o5hK"
      },
      "outputs": [],
      "source": [
        "import random\n",
        "from queue import PriorityQueue\n",
        "\n",
        "from dataclasses import dataclass, field\n",
        "from typing import Any\n",
        "\n",
        "@dataclass(order=True)\n",
        "class PrioritizedItem:\n",
        "    priority: int\n",
        "    item: Any=field(compare=False)"
      ]
    },
    {
      "cell_type": "code",
      "source": [
        "import random\n",
        "\n",
        "def createKSatProblem(numVars, clauseSize, numClauses):\n",
        "    variables = []\n",
        "    for i in range(numVars):\n",
        "        variables.append(chr(i + 65))\n",
        "\n",
        "    formula = \"((\"\n",
        "    clauseGroup = []\n",
        "\n",
        "    for i in range(clauseSize * numClauses):\n",
        "        currentVar = random.choice(variables)\n",
        "        variables.remove(currentVar)\n",
        "        clauseGroup.append(currentVar)\n",
        "\n",
        "        if i % clauseSize == clauseSize - 1:\n",
        "            while len(clauseGroup) != 0:\n",
        "                variables.append(clauseGroup.pop(0))\n",
        "\n",
        "        isNegation = random.random()\n",
        "        if isNegation < 0.5:\n",
        "            formula += \"~\"\n",
        "\n",
        "        formula += currentVar\n",
        "\n",
        "        if i % clauseSize == clauseSize - 1 and i != (clauseSize * numClauses - 1):\n",
        "            formula += \") and (\"\n",
        "        elif i != (clauseSize * numClauses - 1):\n",
        "            formula += \" or \"\n",
        "\n",
        "    formula += \"))\"\n",
        "\n",
        "    return formula\n"
      ],
      "metadata": {
        "id": "KRLMGzb-o7xy"
      },
      "execution_count": 12,
      "outputs": []
    },
    {
      "cell_type": "code",
      "source": [
        "def createRandomAssignment(varCount):\n",
        "    return [random.randint(0, 1) for _ in range(varCount)]\n"
      ],
      "metadata": {
        "id": "i-IuumG1pHLq"
      },
      "execution_count": 13,
      "outputs": []
    },
    {
      "cell_type": "code",
      "source": [
        "def assessFitness(variableValues, clauseSize, varIndices, signList):\n",
        "    score = 0\n",
        "    currentClause = 0\n",
        "\n",
        "    for i in range(len(varIndices)):\n",
        "        if signList[i] == 'P':\n",
        "            currentClause = currentClause or variableValues[varIndices[i]]\n",
        "        else:\n",
        "            currentClause = currentClause or (1 - variableValues[varIndices[i]])\n",
        "\n",
        "        if i % clauseSize == clauseSize - 1 and currentClause == 1:\n",
        "            score += 1\n",
        "            currentClause = 0\n",
        "\n",
        "    return score\n"
      ],
      "metadata": {
        "id": "02fM-JBhpKai"
      },
      "execution_count": 14,
      "outputs": []
    },
    {
      "cell_type": "code",
      "source": [
        "def hillClimbSolver(varValues, maxDepth, clauseSize, varIndices, signList):\n",
        "    steps = 0\n",
        "    while steps < maxDepth:\n",
        "        currentScore = assessFitness(varValues, clauseSize, varIndices, signList)\n",
        "\n",
        "        if currentScore == len(varIndices):\n",
        "            return varValues\n",
        "\n",
        "        changeVar = None\n",
        "\n",
        "        for var in varValues.keys():\n",
        "            neighbor = varValues.copy()\n",
        "            neighbor[var] = 1 - neighbor[var]\n",
        "\n",
        "            neighborScore = assessFitness(neighbor, clauseSize, varIndices, signList)\n",
        "            if neighborScore > currentScore:\n",
        "                currentScore = neighborScore\n",
        "                changeVar = var\n",
        "\n",
        "        steps += 1\n",
        "        if changeVar is not None:\n",
        "            varValues[changeVar] = 1 - varValues[changeVar]\n",
        "\n",
        "    return varValues\n"
      ],
      "metadata": {
        "id": "4z01_rITpPZ-"
      },
      "execution_count": 15,
      "outputs": []
    },
    {
      "cell_type": "code",
      "source": [
        "class PrioritizedState:\n",
        "    def __init__(self, priority, state):\n",
        "        self.priority = priority\n",
        "        self.state = state\n",
        "\n",
        "    def __lt__(self, other):\n",
        "        return self.priority < other.priority\n",
        "\n",
        "def beamSearchSolver(initialState, clauseSize, varIndices, signList, beamWidth, maxSteps):\n",
        "    beam = PriorityQueue()\n",
        "    currentState = initialState\n",
        "    currentScore = assessFitness(currentState, clauseSize, varIndices, signList)\n",
        "    beam.put(PrioritizedState(-currentScore, initialState))\n",
        "    stepCount = 0\n",
        "\n",
        "    while not beam.empty() and stepCount < maxSteps:\n",
        "        state = beam.get()\n",
        "        currentState = state.state\n",
        "        currentScore = -state.priority\n",
        "\n",
        "        if currentScore == len(varIndices):\n",
        "            return currentState\n",
        "\n",
        "        for var in currentState.keys():\n",
        "            neighbor = currentState.copy()\n",
        "            neighbor[var] = 1 - neighbor[var]\n",
        "\n",
        "            neighborScore = assessFitness(neighbor, clauseSize, varIndices, signList)\n",
        "\n",
        "            if beam.qsize() < beamWidth:\n",
        "                beam.put(PrioritizedState(-neighborScore, neighbor))\n",
        "            else:\n",
        "                lowestState = beam.get()\n",
        "                if neighborScore > (-lowestState.priority):\n",
        "                    beam.put(PrioritizedState(-neighborScore, neighbor))\n",
        "                else:\n",
        "                    beam.put(lowestState)\n",
        "\n",
        "            stepCount += 1\n",
        "\n",
        "    return currentState"
      ],
      "metadata": {
        "id": "jTGf22uWpTJ8"
      },
      "execution_count": 17,
      "outputs": []
    },
    {
      "cell_type": "code",
      "source": [
        "def flipVariableValue(currentState):\n",
        "    varToFlip = random.choice(list(currentState))\n",
        "    currentState[varToFlip] = 1 - currentState[varToFlip]\n",
        "    return currentState"
      ],
      "metadata": {
        "id": "y8WBo3lBpU98"
      },
      "execution_count": 18,
      "outputs": []
    },
    {
      "cell_type": "code",
      "source": [
        "def swapVariableValues(currentState):\n",
        "    varA = random.choice(list(currentState))\n",
        "    varB = random.choice(list(currentState))\n",
        "\n",
        "    while varB == varA:\n",
        "        varB = random.choice(list(currentState))\n",
        "\n",
        "    tempValue = currentState[varA]\n",
        "    currentState[varA] = currentState[varB]\n",
        "    currentState[varB] = tempValue\n",
        "\n",
        "    return currentState"
      ],
      "metadata": {
        "id": "eWFlYwP7pXeb"
      },
      "execution_count": 19,
      "outputs": []
    },
    {
      "cell_type": "code",
      "source": [
        "def flipFirstVariableValue(currentState):\n",
        "    firstVar = list(currentState.keys())[0]\n",
        "    currentState[firstVar] = 1 - currentState[firstVar]\n",
        "    return currentState\n"
      ],
      "metadata": {
        "id": "Sl8yOtsvpdIu"
      },
      "execution_count": 20,
      "outputs": []
    },
    {
      "cell_type": "code",
      "source": [
        "def exploreVariableNeighborhood(initialState, clauseSize, varIndices, signList, maxSteps):\n",
        "    stepCount = 0\n",
        "    currentState = initialState\n",
        "\n",
        "    while stepCount < maxSteps:\n",
        "        currentState = initialState\n",
        "        currentScore = assessFitness(initialState, clauseSize, varIndices, signList)\n",
        "\n",
        "        if currentScore == len(varIndices):\n",
        "            return currentState\n",
        "\n",
        "        neighbor1 = flipVariableValue(currentState.copy())\n",
        "        neighbor2 = swapVariableValues(currentState.copy())\n",
        "        neighbor3 = flipFirstVariableValue(currentState.copy())\n",
        "\n",
        "        score1 = assessFitness(neighbor1, clauseSize, varIndices, signList)\n",
        "        score2 = assessFitness(neighbor2, clauseSize, varIndices, signList)\n",
        "        score3 = assessFitness(neighbor3, clauseSize, varIndices, signList)\n",
        "\n",
        "        bestScore = max(score1, score2, score3)\n",
        "        if bestScore > currentScore:\n",
        "            currentScore = bestScore\n",
        "            if currentScore == score1:\n",
        "                currentState = neighbor1\n",
        "            elif currentScore == score2:\n",
        "                currentState = neighbor2\n",
        "            else:\n",
        "                currentState = neighbor3\n",
        "\n",
        "        stepCount += 1\n",
        "\n",
        "    return currentState\n"
      ],
      "metadata": {
        "id": "ZnrtZNXDpi0P"
      },
      "execution_count": 21,
      "outputs": []
    },
    {
      "cell_type": "code",
      "source": [
        "n = 25\n",
        "k = 3\n",
        "m = 1000\n",
        "problem = createKSatProblem(n,k,m)\n",
        "numVars = set()\n",
        "variables = []\n",
        "posOrNeg = []\n",
        "\n",
        "prevNeg = False\n",
        "\n",
        "for i in range(len(problem)):\n",
        "  if problem[i] == '~':\n",
        "    prevNeg = True\n",
        "  elif ord(problem[i]) >= 65 and ord(problem[i]) <= 90:\n",
        "    if prevNeg == True:\n",
        "      posOrNeg.append('N')\n",
        "      prevNeg = False\n",
        "    else:\n",
        "      posOrNeg.append('P')\n",
        "\n",
        "    variables.append(problem[i])\n",
        "    numVars.add(problem[i])\n",
        "\n",
        "\n",
        "values = createRandomAssignment(len(numVars))\n",
        "startState = dict()\n",
        "\n",
        "index = 0\n",
        "for c in numVars:\n",
        "  startState[c] = values[index]\n",
        "  index += 1\n",
        "\n",
        "print(startState)\n",
        "print(\"Starting State Fitness: \", assessFitness(startState, k, variables, posOrNeg))\n",
        "solution  = hillClimbSolver(startState.copy(), 100, k, variables, posOrNeg)\n",
        "print(\"Hill Climbing Solution Fitness: \", assessFitness(solution, k, variables, posOrNeg))\n",
        "solution = beamSearchSolver(startState.copy(), k, variables, posOrNeg, 3, 1000)\n",
        "print(\"Beam Search Solution Fitness (Beam-Width = 3): \", assessFitness(solution, k, variables, posOrNeg))\n",
        "solution = beamSearchSolver(startState.copy(), k, variables, posOrNeg, 4, 1000)\n",
        "print(\"Beam Search Solution Fitness (Beam-Width = 4): \", assessFitness(solution, k, variables, posOrNeg))\n",
        "\n",
        "\n",
        "print(\"Neighbour 1: \", flipVariableValue(startState.copy()))\n",
        "print(\"Neighbour 2: \", swapVariableValues(startState.copy()))\n",
        "print(\"Neighbour 3: \", flipFirstVariableValue(startState.copy()))\n",
        "\n",
        "solution = exploreVariableNeighborhood(startState.copy(), k, variables, posOrNeg, 1000)\n",
        "print(\"Variable-Neigbourhood-Descent Fitness: \", assessFitness(solution, k, variables, posOrNeg))\n"
      ],
      "metadata": {
        "colab": {
          "base_uri": "https://localhost:8080/"
        },
        "id": "WS6jhE6Fplp3",
        "outputId": "dbdaa1df-96c5-4fe2-ae97-740fb5c12c8b"
      },
      "execution_count": 24,
      "outputs": [
        {
          "output_type": "stream",
          "name": "stdout",
          "text": [
            "{'A': 0, 'K': 1, 'Q': 1, 'Y': 0, 'L': 1, 'P': 1, 'T': 1, 'E': 1, 'N': 1, 'O': 0, 'X': 0, 'D': 0, 'H': 1, 'S': 0, 'I': 0, 'G': 0, 'V': 1, 'F': 0, 'J': 0, 'R': 1, 'W': 1, 'B': 1, 'C': 0, 'M': 1, 'U': 0}\n",
            "Starting State Fitness:  880\n",
            "Hill Climbing Solution Fitness:  915\n",
            "Beam Search Solution Fitness (Beam-Width = 3):  914\n",
            "Beam Search Solution Fitness (Beam-Width = 4):  914\n",
            "Neighbour 1:  {'A': 0, 'K': 1, 'Q': 1, 'Y': 0, 'L': 1, 'P': 1, 'T': 1, 'E': 1, 'N': 1, 'O': 0, 'X': 0, 'D': 0, 'H': 1, 'S': 0, 'I': 0, 'G': 0, 'V': 1, 'F': 1, 'J': 0, 'R': 1, 'W': 1, 'B': 1, 'C': 0, 'M': 1, 'U': 0}\n",
            "Neighbour 2:  {'A': 0, 'K': 1, 'Q': 1, 'Y': 0, 'L': 1, 'P': 1, 'T': 1, 'E': 1, 'N': 1, 'O': 0, 'X': 0, 'D': 0, 'H': 1, 'S': 0, 'I': 0, 'G': 0, 'V': 1, 'F': 0, 'J': 0, 'R': 1, 'W': 1, 'B': 1, 'C': 0, 'M': 1, 'U': 0}\n",
            "Neighbour 3:  {'A': 1, 'K': 1, 'Q': 1, 'Y': 0, 'L': 1, 'P': 1, 'T': 1, 'E': 1, 'N': 1, 'O': 0, 'X': 0, 'D': 0, 'H': 1, 'S': 0, 'I': 0, 'G': 0, 'V': 1, 'F': 0, 'J': 0, 'R': 1, 'W': 1, 'B': 1, 'C': 0, 'M': 1, 'U': 0}\n",
            "Variable-Neigbourhood-Descent Fitness:  913\n"
          ]
        }
      ]
    }
  ]
}